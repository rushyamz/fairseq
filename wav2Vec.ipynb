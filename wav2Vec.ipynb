{
 "cells": [
  {
   "cell_type": "code",
   "execution_count": 1,
   "metadata": {},
   "outputs": [],
   "source": [
    "import torch\n",
    "from fairseq.models.wav2vec import Wav2VecModel\n",
    "import soundfile as sf\n",
    "import numpy as np\n",
    "from tqdm import tqdm"
   ]
  },
  {
   "cell_type": "code",
   "execution_count": 2,
   "metadata": {},
   "outputs": [],
   "source": [
    "audio_input, sample_rate = sf.read('sample.wav')\n",
    "audio_input_single_channel = audio_input[:,0]\n",
    "input_batch = []\n",
    "for i in range(int(len(audio_input_single_channel)/10000)):\n",
    "    batch = np.array([audio_input_single_channel[i*10000:(i+1)*10000]])\n",
    "    input_batch.append(torch.from_numpy(batch))"
   ]
  },
  {
   "cell_type": "code",
   "execution_count": 3,
   "metadata": {},
   "outputs": [
    {
     "data": {
      "text/plain": [
       "<All keys matched successfully>"
      ]
     },
     "execution_count": 3,
     "metadata": {},
     "output_type": "execute_result"
    }
   ],
   "source": [
    "cp = torch.load('wav2vec_large.pt', map_location=torch.device('cpu'))\n",
    "model = Wav2VecModel.build_model(cp['args'], task=None)\n",
    "model.load_state_dict(cp['model'])\n",
    "# model.eval()"
   ]
  },
  {
   "cell_type": "code",
   "execution_count": null,
   "metadata": {},
   "outputs": [
    {
     "name": "stderr",
     "output_type": "stream",
     "text": [
      " 69%|██████▉   | 179/260 [00:19<00:10,  7.92it/s]"
     ]
    }
   ],
   "source": [
    "embeddings = []\n",
    "for batch in tqdm(input_batch):\n",
    "    z = model.feature_extractor(batch.float())\n",
    "    embeddings.append(model.feature_aggregator(z))"
   ]
  },
  {
   "cell_type": "code",
   "execution_count": null,
   "metadata": {},
   "outputs": [],
   "source": []
  }
 ],
 "metadata": {
  "kernelspec": {
   "display_name": "Python 3",
   "language": "python",
   "name": "python3"
  },
  "language_info": {
   "codemirror_mode": {
    "name": "ipython",
    "version": 3
   },
   "file_extension": ".py",
   "mimetype": "text/x-python",
   "name": "python",
   "nbconvert_exporter": "python",
   "pygments_lexer": "ipython3",
   "version": "3.8.5"
  }
 },
 "nbformat": 4,
 "nbformat_minor": 4
}
